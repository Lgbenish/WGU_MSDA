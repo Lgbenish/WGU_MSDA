{
  "nbformat": 4,
  "nbformat_minor": 0,
  "metadata": {
    "colab": {
      "provenance": []
    },
    "kernelspec": {
      "name": "python3",
      "display_name": "Python 3"
    },
    "language_info": {
      "name": "python"
    }
  },
  "cells": [
    {
      "cell_type": "markdown",
      "source": [
        "# D213 Task 2 - Sentiment Analysis\n",
        "\n",
        "# Western Governors University\n",
        "\n",
        "# Lucas Benish\n",
        "\n",
        "\n",
        "---\n",
        "\n"
      ],
      "metadata": {
        "id": "qsv5xLRESvCT"
      }
    },
    {
      "cell_type": "markdown",
      "source": [
        "# Part 1: Research Question\n",
        "\n",
        "## A. Describe the purpose of this data analysis by doing the following\n",
        "\n",
        "### 1.\tSummarize one research question that you will answer using neural network models and NLP techniques. Be sure the research questions is relevant to a real-world organizational situation and sentiment analysis captured in your chosen dataset.\n",
        "\n",
        "One research question that I will seek to answer throughout this analysis is as follows: utilizing an initial dataset of 3000  reviews from varying sites, can we create a predictive model to predict the sentiments of our customers' reviews?"
      ],
      "metadata": {
        "id": "8q7KskYYs8UP"
      }
    },
    {
      "cell_type": "markdown",
      "source": [
        "### 2.\tDefine the objectives or goals of the data analysis. Be sure that your objectives or goals are reasonable within the scope of the scenario and is represented in the available data.\n",
        "\n",
        "The overall goal of this data analysis is to create a predictive model utilizing a neural network that will predict whether a user's review contains a positive or negative sentiment of the product/service. This is reasonable within the scope of this task, as the UCI sentiment data set contains 500 positive and 500 negative reviews, with a binary classifier for positive or negative sentiment, from 3 different sources. This totals 3000 reviews with 1500 positive and 1500 negative."
      ],
      "metadata": {
        "id": "bx9Pj1nZtXJ_"
      }
    },
    {
      "cell_type": "markdown",
      "source": [
        "### 3.\tIdentify a type of neural network capable of performing a text classification task that can be trained to produce useful predictions on text sequences on the selected data set.\n",
        "\n",
        "The type of neural network that will be utilized for this text classification will be an recurrent neural network (RNN) (Elleh, 2022). This type of neural network is the best choice for this sentiment analysis due to dependent nature of language, i.e. the sequencing of words. The hidden layers feature a \"looping constraint\" that allows for backwards propagation of information, rather than solely allowing data to move forwards from one layer to the next (Pai, 2023)."
      ],
      "metadata": {
        "id": "IT90Dj1Ytc-8"
      }
    },
    {
      "cell_type": "markdown",
      "source": [
        "# Part 2: Data Preparation\n",
        "\n",
        "## B.\tSummarize the data cleaning process by doing the following:\n",
        "\n",
        "### 1.\tPerform exploratory data analysis on the chosen dataset, and include an explanation of each of the following elements:"
      ],
      "metadata": {
        "id": "tfHNjWYbtmU_"
      }
    },
    {
      "cell_type": "markdown",
      "source": [
        "Setting up environment"
      ],
      "metadata": {
        "id": "RTDxFedxE9Z7"
      }
    },
    {
      "cell_type": "code",
      "execution_count": 1,
      "metadata": {
        "id": "-gEyoMQOSqK_"
      },
      "outputs": [],
      "source": [
        "import numpy as np\n",
        "import pandas as pd\n",
        "from pandas import Series, DataFrame\n",
        "import nltk\n",
        "import matplotlib.pyplot as plt\n",
        "%matplotlib inline\n",
        "import seaborn as sns\n",
        "import warnings\n",
        "warnings.filterwarnings(\"ignore\")\n",
        "from sklearn.model_selection import train_test_split\n",
        "import re\n",
        "import string\n",
        "import tensorflow as tf\n",
        "import keras\n",
        "#from tensorflow.keras.preprocessing.text import Tokenizer\n",
        "#from tensorflow.keras.preprocessing.sequence import pad_sequences\n",
        "from nltk.tokenize import word_tokenize\n",
        "from nltk.corpus import stopwords"
      ]
    },
    {
      "cell_type": "markdown",
      "source": [
        "Importing data frames"
      ],
      "metadata": {
        "id": "BlThYTN7E5uL"
      }
    },
    {
      "cell_type": "code",
      "source": [
        "amazon_df = pd.read_csv('/amazon_cells_labelled.txt', sep='\\t', names=['review', 'sentiment'])\n",
        "imdb_df = pd.read_csv('/imdb_labelled.txt', sep='\\t', names=['review', 'sentiment'])\n",
        "yelp_df = pd.read_csv('/yelp_labelled.txt', sep='\\t', names=['review', 'sentiment'])\n",
        "\n",
        "df_object = [amazon_df, imdb_df, yelp_df]\n",
        "\n",
        "sentiment_df = pd.concat(df_object, ignore_index=True)\n",
        "sentiment_df.head()\n",
        "#adapted from Elleh, 2022\n"
      ],
      "metadata": {
        "colab": {
          "base_uri": "https://localhost:8080/",
          "height": 206
        },
        "id": "FtRoyptIXHwY",
        "outputId": "3cd3959e-8ffd-4e89-bfb0-eed54ae7ef49"
      },
      "execution_count": 2,
      "outputs": [
        {
          "output_type": "execute_result",
          "data": {
            "text/plain": [
              "                                              review  sentiment\n",
              "0  So there is no way for me to plug it in here i...          0\n",
              "1                        Good case, Excellent value.          1\n",
              "2                             Great for the jawbone.          1\n",
              "3  Tied to charger for conversations lasting more...          0\n",
              "4                                  The mic is great.          1"
            ],
            "text/html": [
              "\n",
              "  <div id=\"df-c845fa83-9d58-4a53-94f7-0634af4a962c\">\n",
              "    <div class=\"colab-df-container\">\n",
              "      <div>\n",
              "<style scoped>\n",
              "    .dataframe tbody tr th:only-of-type {\n",
              "        vertical-align: middle;\n",
              "    }\n",
              "\n",
              "    .dataframe tbody tr th {\n",
              "        vertical-align: top;\n",
              "    }\n",
              "\n",
              "    .dataframe thead th {\n",
              "        text-align: right;\n",
              "    }\n",
              "</style>\n",
              "<table border=\"1\" class=\"dataframe\">\n",
              "  <thead>\n",
              "    <tr style=\"text-align: right;\">\n",
              "      <th></th>\n",
              "      <th>review</th>\n",
              "      <th>sentiment</th>\n",
              "    </tr>\n",
              "  </thead>\n",
              "  <tbody>\n",
              "    <tr>\n",
              "      <th>0</th>\n",
              "      <td>So there is no way for me to plug it in here i...</td>\n",
              "      <td>0</td>\n",
              "    </tr>\n",
              "    <tr>\n",
              "      <th>1</th>\n",
              "      <td>Good case, Excellent value.</td>\n",
              "      <td>1</td>\n",
              "    </tr>\n",
              "    <tr>\n",
              "      <th>2</th>\n",
              "      <td>Great for the jawbone.</td>\n",
              "      <td>1</td>\n",
              "    </tr>\n",
              "    <tr>\n",
              "      <th>3</th>\n",
              "      <td>Tied to charger for conversations lasting more...</td>\n",
              "      <td>0</td>\n",
              "    </tr>\n",
              "    <tr>\n",
              "      <th>4</th>\n",
              "      <td>The mic is great.</td>\n",
              "      <td>1</td>\n",
              "    </tr>\n",
              "  </tbody>\n",
              "</table>\n",
              "</div>\n",
              "      <button class=\"colab-df-convert\" onclick=\"convertToInteractive('df-c845fa83-9d58-4a53-94f7-0634af4a962c')\"\n",
              "              title=\"Convert this dataframe to an interactive table.\"\n",
              "              style=\"display:none;\">\n",
              "        \n",
              "  <svg xmlns=\"http://www.w3.org/2000/svg\" height=\"24px\"viewBox=\"0 0 24 24\"\n",
              "       width=\"24px\">\n",
              "    <path d=\"M0 0h24v24H0V0z\" fill=\"none\"/>\n",
              "    <path d=\"M18.56 5.44l.94 2.06.94-2.06 2.06-.94-2.06-.94-.94-2.06-.94 2.06-2.06.94zm-11 1L8.5 8.5l.94-2.06 2.06-.94-2.06-.94L8.5 2.5l-.94 2.06-2.06.94zm10 10l.94 2.06.94-2.06 2.06-.94-2.06-.94-.94-2.06-.94 2.06-2.06.94z\"/><path d=\"M17.41 7.96l-1.37-1.37c-.4-.4-.92-.59-1.43-.59-.52 0-1.04.2-1.43.59L10.3 9.45l-7.72 7.72c-.78.78-.78 2.05 0 2.83L4 21.41c.39.39.9.59 1.41.59.51 0 1.02-.2 1.41-.59l7.78-7.78 2.81-2.81c.8-.78.8-2.07 0-2.86zM5.41 20L4 18.59l7.72-7.72 1.47 1.35L5.41 20z\"/>\n",
              "  </svg>\n",
              "      </button>\n",
              "      \n",
              "  <style>\n",
              "    .colab-df-container {\n",
              "      display:flex;\n",
              "      flex-wrap:wrap;\n",
              "      gap: 12px;\n",
              "    }\n",
              "\n",
              "    .colab-df-convert {\n",
              "      background-color: #E8F0FE;\n",
              "      border: none;\n",
              "      border-radius: 50%;\n",
              "      cursor: pointer;\n",
              "      display: none;\n",
              "      fill: #1967D2;\n",
              "      height: 32px;\n",
              "      padding: 0 0 0 0;\n",
              "      width: 32px;\n",
              "    }\n",
              "\n",
              "    .colab-df-convert:hover {\n",
              "      background-color: #E2EBFA;\n",
              "      box-shadow: 0px 1px 2px rgba(60, 64, 67, 0.3), 0px 1px 3px 1px rgba(60, 64, 67, 0.15);\n",
              "      fill: #174EA6;\n",
              "    }\n",
              "\n",
              "    [theme=dark] .colab-df-convert {\n",
              "      background-color: #3B4455;\n",
              "      fill: #D2E3FC;\n",
              "    }\n",
              "\n",
              "    [theme=dark] .colab-df-convert:hover {\n",
              "      background-color: #434B5C;\n",
              "      box-shadow: 0px 1px 3px 1px rgba(0, 0, 0, 0.15);\n",
              "      filter: drop-shadow(0px 1px 2px rgba(0, 0, 0, 0.3));\n",
              "      fill: #FFFFFF;\n",
              "    }\n",
              "  </style>\n",
              "\n",
              "      <script>\n",
              "        const buttonEl =\n",
              "          document.querySelector('#df-c845fa83-9d58-4a53-94f7-0634af4a962c button.colab-df-convert');\n",
              "        buttonEl.style.display =\n",
              "          google.colab.kernel.accessAllowed ? 'block' : 'none';\n",
              "\n",
              "        async function convertToInteractive(key) {\n",
              "          const element = document.querySelector('#df-c845fa83-9d58-4a53-94f7-0634af4a962c');\n",
              "          const dataTable =\n",
              "            await google.colab.kernel.invokeFunction('convertToInteractive',\n",
              "                                                     [key], {});\n",
              "          if (!dataTable) return;\n",
              "\n",
              "          const docLinkHtml = 'Like what you see? Visit the ' +\n",
              "            '<a target=\"_blank\" href=https://colab.research.google.com/notebooks/data_table.ipynb>data table notebook</a>'\n",
              "            + ' to learn more about interactive tables.';\n",
              "          element.innerHTML = '';\n",
              "          dataTable['output_type'] = 'display_data';\n",
              "          await google.colab.output.renderOutput(dataTable, element);\n",
              "          const docLink = document.createElement('div');\n",
              "          docLink.innerHTML = docLinkHtml;\n",
              "          element.appendChild(docLink);\n",
              "        }\n",
              "      </script>\n",
              "    </div>\n",
              "  </div>\n",
              "  "
            ]
          },
          "metadata": {},
          "execution_count": 2
        }
      ]
    },
    {
      "cell_type": "markdown",
      "source": [
        "Initial exploration"
      ],
      "metadata": {
        "id": "I-qVyS1AFhlD"
      }
    },
    {
      "cell_type": "code",
      "source": [
        "print(sentiment_df.shape)\n",
        "print(sentiment_df.isna().sum())\n",
        "sentiment_df['review'] = sentiment_df['review'].str.lower()\n",
        "\n",
        "print(sentiment_df['sentiment'].value_counts())\n"
      ],
      "metadata": {
        "colab": {
          "base_uri": "https://localhost:8080/",
          "height": 0
        },
        "id": "CCUIDCIzFjz8",
        "outputId": "feca77de-0f97-4f15-e77c-0baa884f4c5c"
      },
      "execution_count": 3,
      "outputs": [
        {
          "output_type": "stream",
          "name": "stdout",
          "text": [
            "(3000, 2)\n",
            "review       0\n",
            "sentiment    0\n",
            "dtype: int64\n",
            "0    1500\n",
            "1    1500\n",
            "Name: sentiment, dtype: int64\n"
          ]
        }
      ]
    },
    {
      "cell_type": "markdown",
      "source": [
        "Continued exploration, addressing bullet points from B1:\n",
        "*   Presence of unusual characters (e.g. emojis, non-English characters, etc.)\n",
        "*   Vocabulary size\n",
        "*   Proposed wors embedding length\n",
        "*   Statistical justification for the chosen maximum sequence length"
      ],
      "metadata": {
        "id": "HDiv-1Fgu4BK"
      }
    },
    {
      "cell_type": "code",
      "source": [
        "#presence of unusual characters\n",
        "reviews = sentiment_df['review'].to_string(index=False)\n",
        "string.punctuation\n",
        "#!\"#$%&'()*+,-./:;<=>?@[\\]^_`{|}~ #output from above line\n",
        "non_standard_chars = re.findall('[!\"#$%&\\'()*+,-./:;<=>?@[\\]^_`{|}~]', reviews)\n",
        "#\\ entered into list to \"escape\" the ' within the list\n",
        "print(\"There are\", len(non_standard_chars), \"non-alphanumeric characters within the initial data.\")"
      ],
      "metadata": {
        "colab": {
          "base_uri": "https://localhost:8080/",
          "height": 0
        },
        "id": "yJaXQ9wju8s-",
        "outputId": "a1b9cf59-83f5-437a-fc37-8d620cc9cefa"
      },
      "execution_count": 139,
      "outputs": [
        {
          "output_type": "stream",
          "name": "stdout",
          "text": [
            "There are 8348 non-alphanumeric characters within the initial data.\n"
          ]
        }
      ]
    },
    {
      "cell_type": "code",
      "source": [
        "#determining \"proposed\" vocabulary length\n",
        "tokenizer = tf.keras.preprocessing.text.Tokenizer(lower=True)\n",
        "tokenizer.fit_on_texts(sentiment_df['review'])\n",
        "sequenced_reviews = tokenizer.texts_to_sequences(sentiment_df['review'])\n",
        "word_count = tokenizer.word_counts\n",
        "proposed_vocabulary_size = len(word_count)\n",
        "\n",
        "print(\"The proposed vocabulary size is:\", proposed_vocabulary_size)"
      ],
      "metadata": {
        "colab": {
          "base_uri": "https://localhost:8080/",
          "height": 0
        },
        "id": "DEtKXlYByXsW",
        "outputId": "7a01b02d-cc81-4d01-8e88-c5f3f4f5a6b3"
      },
      "execution_count": 143,
      "outputs": [
        {
          "output_type": "stream",
          "name": "stdout",
          "text": [
            "The proposed vocabulary size is 5271\n"
          ]
        }
      ]
    },
    {
      "cell_type": "code",
      "source": [
        "#determining \"proposed\" embedding length\n",
        "proposed_embed_length = int(round((proposed_vocabulary_size**0.5)**0.5))\n",
        "print(\"The proposed embedding length is:\", proposed_embed_length)"
      ],
      "metadata": {
        "colab": {
          "base_uri": "https://localhost:8080/",
          "height": 0
        },
        "id": "GX1pKhBGyOmB",
        "outputId": "05244f77-c699-4f30-ccee-b8de0863c96e"
      },
      "execution_count": 146,
      "outputs": [
        {
          "output_type": "stream",
          "name": "stdout",
          "text": [
            "The proposed embedding length is: 9\n"
          ]
        }
      ]
    },
    {
      "cell_type": "code",
      "source": [
        "#lengths of initial reviews\n",
        "all_review_lengths = sentiment_df['review'].str.len()\n",
        "\n",
        "print(\"The longest review is:\", max(all_review_lengths), \"characters long.\")\n",
        "print(\"The shortest review is:\", min(all_review_lengths), \"characters long.\")\n",
        "\n",
        "#proposed maximum sequence length\n",
        "max_review_length = max(len(review) for review in sequenced_reviews)\n",
        "min_review_length = min(len(review) for review in sequenced_reviews)\n",
        "\n",
        "print(\"The longest review is:\", max_review_length, \"words long.\")\n",
        "print(\"The shortest review is:\", min_review_length, \"word long.\")"
      ],
      "metadata": {
        "colab": {
          "base_uri": "https://localhost:8080/",
          "height": 0
        },
        "id": "EJaLGmidzPm5",
        "outputId": "5cba6d75-5103-4eef-f36a-1d55648c8c19"
      },
      "execution_count": 151,
      "outputs": [
        {
          "output_type": "stream",
          "name": "stdout",
          "text": [
            "The longest review is: 479 characters long.\n",
            "The shortest review is: 7 characters long.\n",
            "The longest review is: 73 words long.\n",
            "The shortest review is: 1 word long.\n"
          ]
        }
      ]
    },
    {
      "cell_type": "markdown",
      "source": [
        "The above code segments demonstrate the initial/\"proposed\" values for various model variable needs during an initial exploration of the dataset. It can be seen that within the initial dataset, there are over 8000 non-alphanumeric values. These characters will not provide any benefit in the analysis and will be removed during the cleaning process. The initial/\"proposed\" vocabulary size is determined to be 5271 following tokenization and sequencing. The \"proposed\" embedding length was determined by taking the square root of the square root of the vocabulary size (Elleh, 2022). Finally, the longest review was 479 characters, and 73 words, long. This value would be determined to be our \"proposed\" maximum length with regards to padding. Padding ensures that each of our inputs are of the same length for our model. Truncating would be another means of ensuring our inputs are all the same length, however as we have already discovered the maximum length of a sequence, we can set that to be our max length (TowardsDataScience, 2020)."
      ],
      "metadata": {
        "id": "YFnUNte6z1rf"
      }
    },
    {
      "cell_type": "markdown",
      "source": [
        "Cleaning/pre-processing"
      ],
      "metadata": {
        "id": "O3SD48ObFW5q"
      }
    },
    {
      "cell_type": "code",
      "source": [
        "#creating a new column without punctuation or stop words\n",
        "#nltk.download('stopwords')\n",
        "stop_words = stopwords.words('english')\n",
        "\n",
        "def removing_punct(text):\n",
        "  removed_punct = \"\".join(n for n in text if n not in (\"?\", \".\", \";\", \":\",  \"!\",'\"', \",\", \"'\",\n",
        "                                                '-', ')', '(', '/', '&', '*', '+', '#', '[', ']'))\n",
        "  return removed_punct\n",
        "\n",
        "\n",
        "sentiment_df['new_review'] = sentiment_df['review'].apply(removing_punct)\n",
        "sentiment_df.head()\n",
        "\n",
        "sentiment_df['new_review'] = sentiment_df['new_review'].apply(lambda x: ' '.join(word for word in x.split() if word not in (stop_words)))\n",
        "sentiment_df.head()\n",
        "\n",
        "#adapted from TowardsDataScience (2019)\n"
      ],
      "metadata": {
        "colab": {
          "base_uri": "https://localhost:8080/",
          "height": 206
        },
        "id": "nskle2YWFWcT",
        "outputId": "862657d5-5572-4111-9c92-c5d637a9e54d"
      },
      "execution_count": 148,
      "outputs": [
        {
          "output_type": "execute_result",
          "data": {
            "text/plain": [
              "                                              review  sentiment  \\\n",
              "0  so there is no way for me to plug it in here i...          0   \n",
              "1                        good case, excellent value.          1   \n",
              "2                             great for the jawbone.          1   \n",
              "3  tied to charger for conversations lasting more...          0   \n",
              "4                                  the mic is great.          1   \n",
              "\n",
              "                                          new_review  \n",
              "0                    way plug us unless go converter  \n",
              "1                          good case excellent value  \n",
              "2                                      great jawbone  \n",
              "3  tied charger conversations lasting 45 minutesm...  \n",
              "4                                          mic great  "
            ],
            "text/html": [
              "\n",
              "  <div id=\"df-e426d7c9-8aec-427d-aa6e-94e43c132794\">\n",
              "    <div class=\"colab-df-container\">\n",
              "      <div>\n",
              "<style scoped>\n",
              "    .dataframe tbody tr th:only-of-type {\n",
              "        vertical-align: middle;\n",
              "    }\n",
              "\n",
              "    .dataframe tbody tr th {\n",
              "        vertical-align: top;\n",
              "    }\n",
              "\n",
              "    .dataframe thead th {\n",
              "        text-align: right;\n",
              "    }\n",
              "</style>\n",
              "<table border=\"1\" class=\"dataframe\">\n",
              "  <thead>\n",
              "    <tr style=\"text-align: right;\">\n",
              "      <th></th>\n",
              "      <th>review</th>\n",
              "      <th>sentiment</th>\n",
              "      <th>new_review</th>\n",
              "    </tr>\n",
              "  </thead>\n",
              "  <tbody>\n",
              "    <tr>\n",
              "      <th>0</th>\n",
              "      <td>so there is no way for me to plug it in here i...</td>\n",
              "      <td>0</td>\n",
              "      <td>way plug us unless go converter</td>\n",
              "    </tr>\n",
              "    <tr>\n",
              "      <th>1</th>\n",
              "      <td>good case, excellent value.</td>\n",
              "      <td>1</td>\n",
              "      <td>good case excellent value</td>\n",
              "    </tr>\n",
              "    <tr>\n",
              "      <th>2</th>\n",
              "      <td>great for the jawbone.</td>\n",
              "      <td>1</td>\n",
              "      <td>great jawbone</td>\n",
              "    </tr>\n",
              "    <tr>\n",
              "      <th>3</th>\n",
              "      <td>tied to charger for conversations lasting more...</td>\n",
              "      <td>0</td>\n",
              "      <td>tied charger conversations lasting 45 minutesm...</td>\n",
              "    </tr>\n",
              "    <tr>\n",
              "      <th>4</th>\n",
              "      <td>the mic is great.</td>\n",
              "      <td>1</td>\n",
              "      <td>mic great</td>\n",
              "    </tr>\n",
              "  </tbody>\n",
              "</table>\n",
              "</div>\n",
              "      <button class=\"colab-df-convert\" onclick=\"convertToInteractive('df-e426d7c9-8aec-427d-aa6e-94e43c132794')\"\n",
              "              title=\"Convert this dataframe to an interactive table.\"\n",
              "              style=\"display:none;\">\n",
              "        \n",
              "  <svg xmlns=\"http://www.w3.org/2000/svg\" height=\"24px\"viewBox=\"0 0 24 24\"\n",
              "       width=\"24px\">\n",
              "    <path d=\"M0 0h24v24H0V0z\" fill=\"none\"/>\n",
              "    <path d=\"M18.56 5.44l.94 2.06.94-2.06 2.06-.94-2.06-.94-.94-2.06-.94 2.06-2.06.94zm-11 1L8.5 8.5l.94-2.06 2.06-.94-2.06-.94L8.5 2.5l-.94 2.06-2.06.94zm10 10l.94 2.06.94-2.06 2.06-.94-2.06-.94-.94-2.06-.94 2.06-2.06.94z\"/><path d=\"M17.41 7.96l-1.37-1.37c-.4-.4-.92-.59-1.43-.59-.52 0-1.04.2-1.43.59L10.3 9.45l-7.72 7.72c-.78.78-.78 2.05 0 2.83L4 21.41c.39.39.9.59 1.41.59.51 0 1.02-.2 1.41-.59l7.78-7.78 2.81-2.81c.8-.78.8-2.07 0-2.86zM5.41 20L4 18.59l7.72-7.72 1.47 1.35L5.41 20z\"/>\n",
              "  </svg>\n",
              "      </button>\n",
              "      \n",
              "  <style>\n",
              "    .colab-df-container {\n",
              "      display:flex;\n",
              "      flex-wrap:wrap;\n",
              "      gap: 12px;\n",
              "    }\n",
              "\n",
              "    .colab-df-convert {\n",
              "      background-color: #E8F0FE;\n",
              "      border: none;\n",
              "      border-radius: 50%;\n",
              "      cursor: pointer;\n",
              "      display: none;\n",
              "      fill: #1967D2;\n",
              "      height: 32px;\n",
              "      padding: 0 0 0 0;\n",
              "      width: 32px;\n",
              "    }\n",
              "\n",
              "    .colab-df-convert:hover {\n",
              "      background-color: #E2EBFA;\n",
              "      box-shadow: 0px 1px 2px rgba(60, 64, 67, 0.3), 0px 1px 3px 1px rgba(60, 64, 67, 0.15);\n",
              "      fill: #174EA6;\n",
              "    }\n",
              "\n",
              "    [theme=dark] .colab-df-convert {\n",
              "      background-color: #3B4455;\n",
              "      fill: #D2E3FC;\n",
              "    }\n",
              "\n",
              "    [theme=dark] .colab-df-convert:hover {\n",
              "      background-color: #434B5C;\n",
              "      box-shadow: 0px 1px 3px 1px rgba(0, 0, 0, 0.15);\n",
              "      filter: drop-shadow(0px 1px 2px rgba(0, 0, 0, 0.3));\n",
              "      fill: #FFFFFF;\n",
              "    }\n",
              "  </style>\n",
              "\n",
              "      <script>\n",
              "        const buttonEl =\n",
              "          document.querySelector('#df-e426d7c9-8aec-427d-aa6e-94e43c132794 button.colab-df-convert');\n",
              "        buttonEl.style.display =\n",
              "          google.colab.kernel.accessAllowed ? 'block' : 'none';\n",
              "\n",
              "        async function convertToInteractive(key) {\n",
              "          const element = document.querySelector('#df-e426d7c9-8aec-427d-aa6e-94e43c132794');\n",
              "          const dataTable =\n",
              "            await google.colab.kernel.invokeFunction('convertToInteractive',\n",
              "                                                     [key], {});\n",
              "          if (!dataTable) return;\n",
              "\n",
              "          const docLinkHtml = 'Like what you see? Visit the ' +\n",
              "            '<a target=\"_blank\" href=https://colab.research.google.com/notebooks/data_table.ipynb>data table notebook</a>'\n",
              "            + ' to learn more about interactive tables.';\n",
              "          element.innerHTML = '';\n",
              "          dataTable['output_type'] = 'display_data';\n",
              "          await google.colab.output.renderOutput(dataTable, element);\n",
              "          const docLink = document.createElement('div');\n",
              "          docLink.innerHTML = docLinkHtml;\n",
              "          element.appendChild(docLink);\n",
              "        }\n",
              "      </script>\n",
              "    </div>\n",
              "  </div>\n",
              "  "
            ]
          },
          "metadata": {},
          "execution_count": 148
        }
      ]
    },
    {
      "cell_type": "code",
      "source": [
        "#defining new objects\n",
        "new_reviews = sentiment_df['new_review'].values\n",
        "sentiments = sentiment_df['sentiment'].values\n",
        "\n",
        "#nltk.download('punkt')\n",
        "#nltk.download('wordnet')\n",
        "\n",
        "#lemmatizing the words/tokens\n",
        "Lemma = nltk.WordNetLemmatizer()\n",
        "Tokens = [word_tokenize(review) for review in new_reviews]\n",
        "\n",
        "Lemmad_tokens = [[Lemma.lemmatize(word) for word in sentence] for sentence in Tokens]\n",
        "new_reviews = np.asarray(Lemmad_tokens, dtype=object)\n",
        "new_reviews[0:4]\n",
        "\n"
      ],
      "metadata": {
        "colab": {
          "base_uri": "https://localhost:8080/",
          "height": 0
        },
        "id": "rsuueR2MhGBo",
        "outputId": "d0a38f81-65e1-4f92-a54e-9b56a036fced"
      },
      "execution_count": 149,
      "outputs": [
        {
          "output_type": "execute_result",
          "data": {
            "text/plain": [
              "array([list(['way', 'plug', 'u', 'unless', 'go', 'converter']),\n",
              "       list(['good', 'case', 'excellent', 'value']),\n",
              "       list(['great', 'jawbone']),\n",
              "       list(['tied', 'charger', 'conversation', 'lasting', '45', 'minutesmajor', 'problem'])],\n",
              "      dtype=object)"
            ]
          },
          "metadata": {},
          "execution_count": 149
        }
      ]
    },
    {
      "cell_type": "code",
      "source": [
        "#tokenizing updated column/reviews\n",
        "\n",
        "tokenizer = tf.keras.preprocessing.text.Tokenizer(lower=True)\n",
        "tokenizer.fit_on_texts(new_reviews)\n",
        "\n",
        "token_counts = tokenizer.word_counts\n",
        "vocabulary_size = len(token_counts)+1\n",
        "\n",
        "\n",
        "max_review = max(len(n) for n in new_reviews)\n",
        "min_review = min(len(n) for n in new_reviews)\n",
        "\n",
        "print(\"The vocabulary size is:\", vocabulary_size)\n",
        "print(\"The longest 'new_review' is:\", max_review)\n",
        "print(\"The shortest 'new_review' is:\", min_review)\n"
      ],
      "metadata": {
        "colab": {
          "base_uri": "https://localhost:8080/",
          "height": 0
        },
        "id": "Ov2lbIZkkBk-",
        "outputId": "a00812ac-6a85-40d8-ab63-ff4e0b6b3403"
      },
      "execution_count": 48,
      "outputs": [
        {
          "output_type": "stream",
          "name": "stdout",
          "text": [
            "The vocabulary size is: 4867\n",
            "The longest 'new_review' is: 41\n",
            "The shortest 'new_review' is: 1\n"
          ]
        }
      ]
    },
    {
      "cell_type": "markdown",
      "source": [
        "### 2.\tDescribe the goals of the tokenization process, including any code generated and packages that are used to normalize text during the tokenization process.\n",
        "\n",
        "Tokenization was utilized above while determining the \"proposed\" and actual vocabulary lengths and embedding lengths, and will be utilized in a moment to create smaller text chunks. The goal of tokenization is just that, to create smaller chunks of text from an initial large body of text (Elleh, 2022). Tokenization can parse text from paragraphs/chapters down to sentences, words, and even to characters. Furthermore, during the process of splitting the text into smaller, computer-friendly chunks, some data preparation/cleaning can take place such as removing non-alphanumeric characters and stemming tokens to their root (Elleh, 2022). An example of tokenization will be pasted here, from the upcoming cell where the data is split into training and testing data.\n",
        "\n",
        "Tokenize training reviews\n",
        "<br>tokenizer = tf.keras.preprocessing.text.Tokenizer(lower=True, num_words=vocabulary_size, oov_token=oov_token)\n",
        "<br>tokenizer.fit_on_texts(X_train)\n",
        "\n",
        "Put tokens into index-based sequences\n",
        "<br>unpad_train_reviews = tokenizer.texts_to_sequences(X_train)"
      ],
      "metadata": {
        "id": "-S2vWnZszvI_"
      }
    },
    {
      "cell_type": "markdown",
      "source": [
        "Preparing the data to be modeled"
      ],
      "metadata": {
        "id": "ZayM_cUDpyye"
      }
    },
    {
      "cell_type": "code",
      "source": [
        "#preparing additional variables for tokenizing/padding\n",
        "embed_length = (vocabulary_size**0.5)**0.5\n",
        "embed_dimension = int(round(embed_length))\n",
        "oov_token = '<OOV>'\n",
        "padding_type = 'post'\n"
      ],
      "metadata": {
        "id": "gYm65Y0Qi2c9"
      },
      "execution_count": 70,
      "outputs": []
    },
    {
      "cell_type": "code",
      "source": [
        "#split my data into training and testing\n",
        "X_train, X_test, y_train, y_test = train_test_split(new_reviews, sentiments, test_size = 0.2, random_state=42)"
      ],
      "metadata": {
        "id": "zCxZ9YypmI_B"
      },
      "execution_count": 32,
      "outputs": []
    },
    {
      "cell_type": "code",
      "source": [
        "# Tokenize training reviews\n",
        "tokenizer = tf.keras.preprocessing.text.Tokenizer(lower=True, num_words=vocabulary_size, oov_token=oov_token)\n",
        "tokenizer.fit_on_texts(X_train)\n",
        "\n",
        "# put tokens into index-based sequences\n",
        "unpad_train_reviews = tokenizer.texts_to_sequences(X_train)\n",
        "\n",
        "# pad reviews\n",
        "train_reviews = tf.keras.preprocessing.sequence.pad_sequences(unpad_train_reviews, maxlen=max_review, padding=padding_type)\n",
        "\n",
        "# repeat with testing set\n",
        "unpad_test_reviews = tokenizer.texts_to_sequences(X_test)\n",
        "test_reviews = tf.keras.preprocessing.sequence.pad_sequences(unpad_test_reviews, maxlen=max_review, padding=padding_type)\n",
        "\n",
        "# put sentinment into array\n",
        "train_labels = np.array(y_train)\n",
        "test_labels = np.array(y_test)"
      ],
      "metadata": {
        "id": "G9eOjqoKnUVI"
      },
      "execution_count": 33,
      "outputs": []
    },
    {
      "cell_type": "markdown",
      "source": [
        "### 3.\tExplain the padding process used to standardize the length of sequences, including the following in your explanation:\n",
        "\n",
        "*   If the padding occurs before or after the text sequence\n",
        "*   A screenshot of a single padded sequence"
      ],
      "metadata": {
        "id": "kGqTOTEZ5Nj5"
      }
    },
    {
      "cell_type": "code",
      "source": [
        "#single example of padded train_reviews\n",
        "train_reviews[1]"
      ],
      "metadata": {
        "colab": {
          "base_uri": "https://localhost:8080/",
          "height": 0
        },
        "id": "th0wJZjP8NQq",
        "outputId": "12da6ae8-2ae5-44c9-bfb4-e579d370ed77"
      },
      "execution_count": 155,
      "outputs": [
        {
          "output_type": "execute_result",
          "data": {
            "text/plain": [
              "array([  20,    6,  109,  520, 1724,  267, 1095, 1725, 1726, 1727,  796,\n",
              "       1728, 1096,  380,    0,    0,    0,    0,    0,    0,    0,    0,\n",
              "          0,    0,    0,    0,    0,    0,    0,    0,    0,    0,    0,\n",
              "          0,    0,    0,    0,    0,    0,    0,    0], dtype=int32)"
            ]
          },
          "metadata": {},
          "execution_count": 155
        }
      ]
    },
    {
      "cell_type": "markdown",
      "source": [
        "The above cell outputs a single row of the train_reviews array. It can be seen that it is an array made up of 41 values, some of which are non-zero and others that are zero. The non-zero values represent tokens/lemmatized text from prior steps. The values that contain zeros do not represent any specific text but have been added to increase the length of each array to the \"max_review\" length from above. This process is necessary to ensure that all tensor inputs are of the same shape and size, a requirement for our neyral network model (TowardsDataScience, 2020).\n",
        "\n",
        "The cell that is two cells above demonstrates how the padding took place. Padding was utilized \"post\"-sequence, meaning that the zeroes were added to the end of the numeric sequence."
      ],
      "metadata": {
        "id": "cr5wui8E_G5n"
      }
    },
    {
      "cell_type": "markdown",
      "source": [
        "### 4.\tIdentify how many categories of sentiment will be used and an activation function for the final dense layer of the network.\n",
        "\n",
        "It is seen in part B1, from the call of <br>\"print(sentiment_df['sentiment'].valuecounts(),\" <br>that there are only two sentiments: 0 and 1. It is visible within the initial exploration that 0 represents a negative sentiment while 1 represents a positive sentiment. The goal of this model is to output either a 0 or 1, for negative and positive sentiment, respectively. Therefore, we need to utilize a final dense layer that will output a binary value. The activation function for this final layer will therefore be 'sigmoid.' This will be seen in a future cell, but the code will be pasted here for clarification:\n",
        "\n",
        "model = tf.keras.Sequential()\n",
        "<br>model.add(tf.keras.layers.Embedding(input_dim=vocabulary_size,\n",
        "                           output_dim = embed_dimension,\n",
        "                           input_length=max_review))\n",
        "<br>model.add(tf.keras.layers.GlobalAveragePooling1D())\n",
        "<br>model.add(tf.keras.layers.Dense(6, activation='relu'))\n",
        "<br>model.add(tf.keras.layers.Dense(3, activation='relu'))\n",
        "<br>model.add(tf.keras.layers.Dense(1, activation='sigmoid'))\n",
        "<br>model.compile(optimizer='adam',\n",
        "              loss='binary_crossentropy',\n",
        "              metrics=['accuracy'])\n",
        "<br>model.summary()"
      ],
      "metadata": {
        "id": "caSW2PwO56P0"
      }
    },
    {
      "cell_type": "markdown",
      "source": [
        "### 5.\tExplain the steps used to prepare the data for analysis, including the size of the training, validation, and test set split.\n",
        "\n",
        "The steps that were utilized to prepare the data for analysis can be seen thus far. They will be summarized below:\n",
        "\n",
        "\n",
        "1.   Import the data files utilizing pandas, concatenate them into a single file\n",
        "2.   Explore the data\n",
        "3.   Determine presence of nulls, duplicates, non-alphanumeric characters\n",
        "4.   Clean data: remove nullls (none), remove non-alphanumeric characters, remove stopwords, lemmatize words to bring them down to just their roots\n",
        "5.   Determine new model parameters/variables, such as vocabulary length, embedding length, maximum sequence length\n",
        "6.   Split data into training/testing data sets, 80/20 split utilized; no validation split utilized\n",
        "7.   Tokenize, again, the training and testing data sets to allow for padding\n",
        "8.   Pad sequences within training and testing data sets to ensure all sequences are of equal length\n",
        "\n",
        "\n"
      ],
      "metadata": {
        "id": "E9Yyozwc3Xj8"
      }
    },
    {
      "cell_type": "code",
      "source": [
        "#writing above data sets to csv files for submission\n",
        "pd.DataFrame(train_reviews).to_csv(\"training_reviews.csv\")\n",
        "pd.DataFrame(test_reviews).to_csv(\"testing_reviews.csv\")\n",
        "pd.DataFrame(train_labels).to_csv(\"training_labels.csv\")\n",
        "pd.DataFrame(test_labels).to_csv(\"testing_labels.csv\")\n",
        "pd.DataFrame(sentiment_df).to_csv(\"full_data_set.csv\")"
      ],
      "metadata": {
        "id": "H2dEnbrX2lXH"
      },
      "execution_count": 154,
      "outputs": []
    },
    {
      "cell_type": "markdown",
      "source": [
        "### 6.\tProvide a copy of the prepared dataset.\n",
        "\n",
        "The above lines of code can be utilized to write the split data sets, as well as the full data set with shortened reviews, to csv files for submission."
      ],
      "metadata": {
        "id": "aoM7cyXG3BXt"
      }
    },
    {
      "cell_type": "markdown",
      "source": [
        "# Part 3: Network Architecture\n",
        "\n",
        "## C.\tDescribe the type of network used by doing the following:\n",
        "\n",
        "### 1.\tProvide the output of the model summary of the function from TensorFlow"
      ],
      "metadata": {
        "id": "7rVycsYb7fIW"
      }
    },
    {
      "cell_type": "markdown",
      "source": [
        "Modeling"
      ],
      "metadata": {
        "id": "foFdjTj-qEWE"
      }
    },
    {
      "cell_type": "code",
      "source": [
        "model = tf.keras.Sequential([\n",
        "tf.keras.layers.Embedding(input_dim=vocabulary_size,\n",
        "                           output_dim = embed_dimension,\n",
        "                           input_length=max_review)\n",
        ", tf.keras.layers.GlobalAveragePooling1D()\n",
        ", tf.keras.layers.Dense(6, activation='relu')\n",
        ", tf.keras.layers.Dense(3, activation='relu')\n",
        ", tf.keras.layers.Dense(1, activation='sigmoid')\n",
        "])\n",
        "\n",
        "model.compile(optimizer='adam',\n",
        "              loss='binary_crossentropy',\n",
        "              metrics=['accuracy'])\n",
        "model.summary()"
      ],
      "metadata": {
        "colab": {
          "base_uri": "https://localhost:8080/",
          "height": 0
        },
        "id": "d9YmMcoUqD4L",
        "outputId": "1cb9a6b4-7134-4148-f889-c39c994f0da5"
      },
      "execution_count": 200,
      "outputs": [
        {
          "output_type": "stream",
          "name": "stdout",
          "text": [
            "Model: \"sequential_34\"\n",
            "_________________________________________________________________\n",
            " Layer (type)                Output Shape              Param #   \n",
            "=================================================================\n",
            " embedding_35 (Embedding)    (None, 41, 8)             38936     \n",
            "                                                                 \n",
            " global_average_pooling1d_18  (None, 8)                0         \n",
            "  (GlobalAveragePooling1D)                                       \n",
            "                                                                 \n",
            " dense_65 (Dense)            (None, 6)                 54        \n",
            "                                                                 \n",
            " dense_66 (Dense)            (None, 3)                 21        \n",
            "                                                                 \n",
            " dense_67 (Dense)            (None, 1)                 4         \n",
            "                                                                 \n",
            "=================================================================\n",
            "Total params: 39,015\n",
            "Trainable params: 39,015\n",
            "Non-trainable params: 0\n",
            "_________________________________________________________________\n"
          ]
        }
      ]
    },
    {
      "cell_type": "markdown",
      "source": [
        "Above, the model summary of my initial model can be seen.\n",
        "\n",
        "## 2.\tDiscuss the number of layers, the type of layers, and total number of parameters\n",
        "\n",
        "Following trial and error, I included 5 total layers within my model. The first is the embedding layer, with a total of 38,936 parameters. The second layer is my \"flattening\" layer, which does not have any parameters. The next two layers are my hidden, dense layers. They have 6 and 3 nodes, and 54 and 21 parameters, respectively. The final layer is my dense, output layer, with a single node and a total of 4 parameters. The overall sum of trainable parameters within my model is 39015.\n",
        "\n",
        "## 3.\tJustify the choice of hyperparameters, including the following elements:\n",
        "*   Activation functions\n",
        "*   Number of nodes per layer\n",
        "*   Loss function\n",
        "*   Optimizer\n",
        "*   Stopping criteria\n",
        "*   Evaluation metric\n",
        "\n",
        "The activation functions within my hidden layers matched each other, but were different than my output layer. My hidden layers utilized a rectified linear activation (ReLu) function. Per Dr. Elleh's lecture, \"D213 Task 2 Cohort Webinar,\" a ReLu function is relatively easy to utilize and appropriate for hidden layers (2022). The output layer utilized a sigmoid function due to being a binary output of 0 or 1.\n",
        "\n",
        "As mentioned above, there was some trial and error with determining the \"appropriate\" number of layers, particularly the hidden layers and their number of nodes (Singh Sachdev, 2020). After attempting a single hidden layer with 10 nodes, then 8 nodes, and then multiple hidden layers with 10 and 5, then 6 and 4, I finally settled upon 6/3/1 for the two hidden and output layers. All of the models produced slight overfitting, but this model produced the best accuracy on the test data despite that. The accuracy began to taper near 14/15 epocs.\n",
        "\n",
        "Similar to the activation function of the final layer, the loss function utilized was meant to tailor my model towards a binary classification, thus \"binary_crossentropy\" was utilized (Elleh, 2022). \"Adam\" was utilized as an optimizer due to the decreased strain it places on the performance of the machine, as my computer is not exactly the newest model.\n",
        "\n",
        "This initial model did not utilize stopping criteria, as some of these setting were determined experimentally. This was intentional, to allow for more \"fine tuning\" of the other parameters. Stopping criteria is utilized in a second \"new_model\" to improve the overfitting that is noticed in the first model. This was also subject to some experimentation. I attempted utilizing a \"patience\" value of both 2 and 3, but these typically continued to overfit the \"new_model.\" For this reason, I settled on using a patience value of 1.\n",
        "\n",
        "Finally, the training accuracy of this initial model on the testing data was >95%. It varies slightly depending on when the notebook is run/how the model performs, but it is consistently greater than 95%. On the testing data, the accuracy typically outputs near 80%. The current output of the final epoch will be pasted here for clarity, which displays both the training accuracy and \"validation\" (testing) accuracy:\n",
        "\n",
        "Epoch 20/20\n",
        "75/75 [==============================] - 0s 4ms/step - loss: 0.0867 - accuracy: 0.9779 - val_loss: 0.4486 - val_accuracy: 0.8083\n",
        "\n"
      ],
      "metadata": {
        "id": "yjY_GnRk_5n0"
      }
    },
    {
      "cell_type": "code",
      "source": [
        "\n",
        "num_epochs = 20\n",
        "history = model.fit(train_reviews, train_labels,\n",
        "                    epochs=num_epochs, validation_data=(test_reviews, test_labels))"
      ],
      "metadata": {
        "colab": {
          "base_uri": "https://localhost:8080/",
          "height": 0
        },
        "id": "GtxfmwK6qK8k",
        "outputId": "2a22d75d-025a-4d8d-beed-e2e1132b185a"
      },
      "execution_count": 104,
      "outputs": [
        {
          "output_type": "stream",
          "name": "stdout",
          "text": [
            "Epoch 1/20\n",
            "75/75 [==============================] - 1s 7ms/step - loss: 0.6931 - accuracy: 0.5004 - val_loss: 0.6931 - val_accuracy: 0.4983\n",
            "Epoch 2/20\n",
            "75/75 [==============================] - 0s 4ms/step - loss: 0.6929 - accuracy: 0.5004 - val_loss: 0.6928 - val_accuracy: 0.4983\n",
            "Epoch 3/20\n",
            "75/75 [==============================] - 0s 4ms/step - loss: 0.6914 - accuracy: 0.5238 - val_loss: 0.6898 - val_accuracy: 0.5050\n",
            "Epoch 4/20\n",
            "75/75 [==============================] - 0s 4ms/step - loss: 0.6818 - accuracy: 0.6300 - val_loss: 0.6777 - val_accuracy: 0.6317\n",
            "Epoch 5/20\n",
            "75/75 [==============================] - 0s 4ms/step - loss: 0.6526 - accuracy: 0.7567 - val_loss: 0.6483 - val_accuracy: 0.7033\n",
            "Epoch 6/20\n",
            "75/75 [==============================] - 0s 4ms/step - loss: 0.5932 - accuracy: 0.8537 - val_loss: 0.6012 - val_accuracy: 0.8033\n",
            "Epoch 7/20\n",
            "75/75 [==============================] - 0s 4ms/step - loss: 0.5123 - accuracy: 0.8925 - val_loss: 0.5477 - val_accuracy: 0.7867\n",
            "Epoch 8/20\n",
            "75/75 [==============================] - 0s 5ms/step - loss: 0.4239 - accuracy: 0.9092 - val_loss: 0.5059 - val_accuracy: 0.7817\n",
            "Epoch 9/20\n",
            "75/75 [==============================] - 0s 4ms/step - loss: 0.3487 - accuracy: 0.9200 - val_loss: 0.4603 - val_accuracy: 0.8050\n",
            "Epoch 10/20\n",
            "75/75 [==============================] - 0s 4ms/step - loss: 0.2855 - accuracy: 0.9362 - val_loss: 0.4383 - val_accuracy: 0.8050\n",
            "Epoch 11/20\n",
            "75/75 [==============================] - 0s 5ms/step - loss: 0.2415 - accuracy: 0.9433 - val_loss: 0.4228 - val_accuracy: 0.8083\n",
            "Epoch 12/20\n",
            "75/75 [==============================] - 0s 6ms/step - loss: 0.2025 - accuracy: 0.9538 - val_loss: 0.4156 - val_accuracy: 0.8117\n",
            "Epoch 13/20\n",
            "75/75 [==============================] - 0s 6ms/step - loss: 0.1767 - accuracy: 0.9554 - val_loss: 0.4120 - val_accuracy: 0.8033\n",
            "Epoch 14/20\n",
            "75/75 [==============================] - 1s 7ms/step - loss: 0.1542 - accuracy: 0.9608 - val_loss: 0.4224 - val_accuracy: 0.8000\n",
            "Epoch 15/20\n",
            "75/75 [==============================] - 0s 5ms/step - loss: 0.1376 - accuracy: 0.9654 - val_loss: 0.4194 - val_accuracy: 0.8050\n",
            "Epoch 16/20\n",
            "75/75 [==============================] - 0s 6ms/step - loss: 0.1236 - accuracy: 0.9683 - val_loss: 0.4202 - val_accuracy: 0.8200\n",
            "Epoch 17/20\n",
            "75/75 [==============================] - 0s 6ms/step - loss: 0.1141 - accuracy: 0.9708 - val_loss: 0.4326 - val_accuracy: 0.8050\n",
            "Epoch 18/20\n",
            "75/75 [==============================] - 0s 5ms/step - loss: 0.1036 - accuracy: 0.9750 - val_loss: 0.4460 - val_accuracy: 0.7950\n",
            "Epoch 19/20\n",
            "75/75 [==============================] - 0s 4ms/step - loss: 0.0950 - accuracy: 0.9758 - val_loss: 0.4370 - val_accuracy: 0.8050\n",
            "Epoch 20/20\n",
            "75/75 [==============================] - 0s 4ms/step - loss: 0.0867 - accuracy: 0.9779 - val_loss: 0.4486 - val_accuracy: 0.8083\n"
          ]
        }
      ]
    },
    {
      "cell_type": "code",
      "source": [
        "plt.style.use('ggplot')\n",
        "\n",
        "def plot_history(history):\n",
        "    acc = history.history['accuracy']\n",
        "    val_acc = history.history['val_accuracy']\n",
        "    loss = history.history['loss']\n",
        "    val_loss = history.history['val_loss']\n",
        "    x = range(1, len(acc) + 1)\n",
        "\n",
        "    plt.figure(figsize=(12, 5))\n",
        "    plt.subplot(1, 2, 1)\n",
        "    plt.plot(x, acc, 'b', label='Training accuracy')\n",
        "    plt.plot(x, val_acc, 'r', label='Validation accuracy')\n",
        "    plt.title('Comparison of Accuracy')\n",
        "    plt.legend()\n",
        "    plt.subplot(1, 2, 2)\n",
        "    plt.plot(x, loss, 'b', label='Training loss')\n",
        "    plt.plot(x, val_loss, 'r', label='Validation loss')\n",
        "    plt.title('Comparison of Loss')\n",
        "    plt.legend()\n",
        "\n",
        "plot_history(history)\n",
        "\n",
        "# the above code adapted from Janakiev (n.d.)"
      ],
      "metadata": {
        "colab": {
          "base_uri": "https://localhost:8080/",
          "height": 469
        },
        "id": "DhtV3oqXqsl1",
        "outputId": "8902980b-123a-4283-af5d-b8359d4d8b1e"
      },
      "execution_count": 105,
      "outputs": [
        {
          "output_type": "display_data",
          "data": {
            "text/plain": [
              "<Figure size 1200x500 with 2 Axes>"
            ],
            "image/png": "[encoded data removed]"
          },
          "metadata": {}
        }
      ]
    },
    {
      "cell_type": "code",
      "source": [
        "# Evaluate model\n",
        "score = model.evaluate(test_reviews, test_labels)\n",
        "score"
      ],
      "metadata": {
        "colab": {
          "base_uri": "https://localhost:8080/",
          "height": 0
        },
        "id": "kucp7EEhtS4A",
        "outputId": "a7f0a3ba-f1bb-424e-ce25-1b1f5b9887cc"
      },
      "execution_count": 106,
      "outputs": [
        {
          "output_type": "stream",
          "name": "stdout",
          "text": [
            "19/19 [==============================] - 0s 2ms/step - loss: 0.4486 - accuracy: 0.8083\n"
          ]
        },
        {
          "output_type": "execute_result",
          "data": {
            "text/plain": [
              "[0.44860103726387024, 0.8083333373069763]"
            ]
          },
          "metadata": {},
          "execution_count": 106
        }
      ]
    },
    {
      "cell_type": "code",
      "source": [
        "#new model\n",
        "new_model = tf.keras.Sequential([\n",
        "tf.keras.layers.Embedding(input_dim=vocabulary_size,\n",
        "                           output_dim = embed_dimension,\n",
        "                           input_length=max_review)\n",
        ", tf.keras.layers.GlobalAveragePooling1D()\n",
        ", tf.keras.layers.Dense(4, activation='relu')\n",
        ", tf.keras.layers.Dense(1, activation='sigmoid')\n",
        "])\n",
        "\n",
        "new_model.compile(optimizer='adam',\n",
        "              loss='binary_crossentropy',\n",
        "              metrics=['accuracy'])\n",
        "new_model.summary()"
      ],
      "metadata": {
        "colab": {
          "base_uri": "https://localhost:8080/",
          "height": 0
        },
        "outputId": "1df3ea11-963c-4cb6-f278-9239137068ee",
        "id": "ySyzcKrbskkR"
      },
      "execution_count": 202,
      "outputs": [
        {
          "output_type": "stream",
          "name": "stdout",
          "text": [
            "Model: \"sequential_35\"\n",
            "_________________________________________________________________\n",
            " Layer (type)                Output Shape              Param #   \n",
            "=================================================================\n",
            " embedding_36 (Embedding)    (None, 41, 8)             38936     \n",
            "                                                                 \n",
            " global_average_pooling1d_19  (None, 8)                0         \n",
            "  (GlobalAveragePooling1D)                                       \n",
            "                                                                 \n",
            " dense_68 (Dense)            (None, 4)                 36        \n",
            "                                                                 \n",
            " dense_69 (Dense)            (None, 1)                 5         \n",
            "                                                                 \n",
            "=================================================================\n",
            "Total params: 38,977\n",
            "Trainable params: 38,977\n",
            "Non-trainable params: 0\n",
            "_________________________________________________________________\n"
          ]
        }
      ]
    },
    {
      "cell_type": "markdown",
      "source": [
        "# Part 4: Model Evaluation\n",
        "\n",
        "## D.\tEvaluate the model training process and its relevant outcomes by doing the following:\n",
        "\n",
        "### 1.\tDiscuss the impact of using stopping criteria instead of defining the number of epochs, including a screenshot showing the final training epoch\n",
        "\n",
        "As discussed above in C3, stopping criteria are utilized here in my \"new_model.\" It was noted that the first model overfit, so early stopping criteria was incorporated into the new_model.fit() call. The method of monitoring the model was based on 'val_loss' and set to stop if there was 1 consecutive epoch of unchanging 'val_loss.' Utilizing this stopping criteria eliminates the need for us to manually review which epoch to cut the training at, but rather allows the model to do so independently when a specific stopping criteria is met (Elleh, 2022)."
      ],
      "metadata": {
        "id": "VEwdUM7PKPYp"
      }
    },
    {
      "cell_type": "code",
      "source": [
        "early_stopping = tf.keras.callbacks.EarlyStopping(monitor='val_loss', mode='min', patience=1)\n",
        "\n",
        "\n",
        "new_history = new_model.fit(train_reviews, train_labels,\n",
        "                    epochs=num_epochs, validation_data=(test_reviews, test_labels), callbacks=early_stopping)"
      ],
      "metadata": {
        "colab": {
          "base_uri": "https://localhost:8080/",
          "height": 0
        },
        "id": "HbcJb9MlsrqJ",
        "outputId": "67299ce4-677e-4730-9376-0ea412fd98cc"
      },
      "execution_count": 203,
      "outputs": [
        {
          "output_type": "stream",
          "name": "stdout",
          "text": [
            "Epoch 1/20\n",
            "75/75 [==============================] - 1s 6ms/step - loss: 0.6930 - accuracy: 0.5004 - val_loss: 0.6924 - val_accuracy: 0.5000\n",
            "Epoch 2/20\n",
            "75/75 [==============================] - 0s 3ms/step - loss: 0.6908 - accuracy: 0.5717 - val_loss: 0.6899 - val_accuracy: 0.5917\n",
            "Epoch 3/20\n",
            "75/75 [==============================] - 0s 3ms/step - loss: 0.6858 - accuracy: 0.6525 - val_loss: 0.6853 - val_accuracy: 0.7683\n",
            "Epoch 4/20\n",
            "75/75 [==============================] - 0s 3ms/step - loss: 0.6766 - accuracy: 0.7904 - val_loss: 0.6777 - val_accuracy: 0.6350\n",
            "Epoch 5/20\n",
            "75/75 [==============================] - 0s 3ms/step - loss: 0.6607 - accuracy: 0.7725 - val_loss: 0.6644 - val_accuracy: 0.7683\n",
            "Epoch 6/20\n",
            "75/75 [==============================] - 0s 3ms/step - loss: 0.6363 - accuracy: 0.8167 - val_loss: 0.6457 - val_accuracy: 0.7917\n",
            "Epoch 7/20\n",
            "75/75 [==============================] - 0s 3ms/step - loss: 0.6020 - accuracy: 0.8704 - val_loss: 0.6213 - val_accuracy: 0.8050\n",
            "Epoch 8/20\n",
            "75/75 [==============================] - 0s 3ms/step - loss: 0.5592 - accuracy: 0.9067 - val_loss: 0.5927 - val_accuracy: 0.8050\n",
            "Epoch 9/20\n",
            "75/75 [==============================] - 0s 3ms/step - loss: 0.5120 - accuracy: 0.9129 - val_loss: 0.5624 - val_accuracy: 0.7967\n",
            "Epoch 10/20\n",
            "75/75 [==============================] - 0s 3ms/step - loss: 0.4658 - accuracy: 0.9092 - val_loss: 0.5363 - val_accuracy: 0.7833\n",
            "Epoch 11/20\n",
            "75/75 [==============================] - 0s 4ms/step - loss: 0.4168 - accuracy: 0.9258 - val_loss: 0.5081 - val_accuracy: 0.7950\n",
            "Epoch 12/20\n",
            "75/75 [==============================] - 0s 4ms/step - loss: 0.3749 - accuracy: 0.9296 - val_loss: 0.4893 - val_accuracy: 0.7800\n",
            "Epoch 13/20\n",
            "75/75 [==============================] - 0s 4ms/step - loss: 0.3384 - accuracy: 0.9300 - val_loss: 0.4681 - val_accuracy: 0.7917\n",
            "Epoch 14/20\n",
            "75/75 [==============================] - 0s 4ms/step - loss: 0.3061 - accuracy: 0.9358 - val_loss: 0.4520 - val_accuracy: 0.8083\n",
            "Epoch 15/20\n",
            "75/75 [==============================] - 0s 4ms/step - loss: 0.2782 - accuracy: 0.9396 - val_loss: 0.4419 - val_accuracy: 0.7900\n",
            "Epoch 16/20\n",
            "75/75 [==============================] - 0s 4ms/step - loss: 0.2563 - accuracy: 0.9413 - val_loss: 0.4310 - val_accuracy: 0.7933\n",
            "Epoch 17/20\n",
            "75/75 [==============================] - 0s 4ms/step - loss: 0.2346 - accuracy: 0.9492 - val_loss: 0.4234 - val_accuracy: 0.8133\n",
            "Epoch 18/20\n",
            "75/75 [==============================] - 0s 5ms/step - loss: 0.2159 - accuracy: 0.9496 - val_loss: 0.4170 - val_accuracy: 0.8033\n",
            "Epoch 19/20\n",
            "75/75 [==============================] - 0s 5ms/step - loss: 0.2005 - accuracy: 0.9546 - val_loss: 0.4156 - val_accuracy: 0.7967\n",
            "Epoch 20/20\n",
            "75/75 [==============================] - 0s 4ms/step - loss: 0.1868 - accuracy: 0.9567 - val_loss: 0.4122 - val_accuracy: 0.8017\n"
          ]
        }
      ]
    },
    {
      "cell_type": "code",
      "source": [
        "plt.style.use('ggplot')\n",
        "\n",
        "plot_history(new_history)"
      ],
      "metadata": {
        "colab": {
          "base_uri": "https://localhost:8080/",
          "height": 469
        },
        "id": "tG6iOKJ6s-yS",
        "outputId": "fbd618fd-1f1d-44eb-aab7-2eca3304665c"
      },
      "execution_count": 204,
      "outputs": [
        {
          "output_type": "display_data",
          "data": {
            "text/plain": [
              "<Figure size 1200x500 with 2 Axes>"
            ],
            "image/png": "[encoded data removed]"
          },
          "metadata": {}
        }
      ]
    },
    {
      "cell_type": "markdown",
      "source": [
        "## 2.\tProvide visualizations of the model’s training process, including a line graph of the loss and chosen evaluation metric\n",
        "\n",
        "This can be seen above for my \"new_model\", as well as above the header for Part 4 for my initial \"model.\"\n",
        "\n",
        "The graphs will vary slightly with each successive run, as the model changes slightly with each run.\n",
        "\n",
        "## 3.\tAssess the fitness of the model and any measures taken to address overfitting\n",
        "\n",
        "The initial model that was made, discussed in part B, tended to overfit on the training data. It was seen with multiple successive runs that the model would attain >95% accuracy on the training data, then attain approximately 80% accuracy on the testing data.\n",
        "\n",
        "To address this, the following steps were taken:\n",
        "1. One of the hidden layers was removed from the \"new_model.\"\n",
        "2. Stopping criteria was incorporated into the \"new_model.\"\n",
        "\n",
        "It is still noted that occasionally there will be overfitting or underfitting with the new model, but often the model will end up stopping near epoch 14 or 15 after hitting the stopping criteria."
      ],
      "metadata": {
        "id": "xc1ayejUNKxJ"
      }
    },
    {
      "cell_type": "code",
      "source": [
        "# Evaluate model\n",
        "new_score = new_model.evaluate(test_reviews, test_labels)\n",
        "new_score"
      ],
      "metadata": {
        "colab": {
          "base_uri": "https://localhost:8080/",
          "height": 0
        },
        "id": "3AcdG6OwtIgo",
        "outputId": "05e9b3a7-5120-4551-bb7a-4565ae52a2b7"
      },
      "execution_count": 205,
      "outputs": [
        {
          "output_type": "stream",
          "name": "stdout",
          "text": [
            "19/19 [==============================] - 0s 2ms/step - loss: 0.4122 - accuracy: 0.8017\n"
          ]
        },
        {
          "output_type": "execute_result",
          "data": {
            "text/plain": [
              "[0.41216912865638733, 0.8016666769981384]"
            ]
          },
          "metadata": {},
          "execution_count": 205
        }
      ]
    },
    {
      "cell_type": "markdown",
      "source": [
        "## 4.\tDiscuss the predictive accuracy of the trained network\n",
        "\n",
        "The \"new_model\" even with stopping criteria will sometimes run through the full 20 epochs. At the time of writing this, the most recent run had an accuracy of 80%, similar to the initial model. The final epoch output will be pasted below for clarity:\n",
        "<br>Epoch 20/20\n",
        "<br>75/75 [==============================] - 0s 4ms/step - loss: 0.1868 - accuracy: 0.9567 <br>- val_loss: 0.4122 - val_accuracy: 0.8017\n",
        "\n",
        "It can be seen that once again the model hit >95% accuracy on the training data, and near 80% on the testing data. This is a moderately accurate model, but could likely still use more fine tuning to decrease overfitting further."
      ],
      "metadata": {
        "id": "w-emnMgoOAC1"
      }
    },
    {
      "cell_type": "markdown",
      "source": [
        "# Part 5: Summary and Recommendations\n",
        "\n",
        "## E.\tProvide the code used to save the trained network within the neural network\n",
        "\n",
        "\n",
        "\n"
      ],
      "metadata": {
        "id": "3qdmGueSOwlg"
      }
    },
    {
      "cell_type": "code",
      "source": [
        "model.save('SentimentAnalysisModelOne.h5')\n",
        "new_model.save('SentimentAnalysisModelTwo.h5')"
      ],
      "metadata": {
        "id": "SXlHRz6CPMCQ"
      },
      "execution_count": 207,
      "outputs": []
    },
    {
      "cell_type": "markdown",
      "source": [
        "## F.\tDiscuss the functionality of your neural network, including the impact of the network architecture\n",
        "\n",
        "Overall, the creation of this neural network model has completed what I set out to do. My goal for this task was to cr to create a model that predicts, with moderate accuracy, the sentiment of a review. This was accomplished via both a model with 5 layers (embedding, flattening, hidden, hidden, output), and a model with 4 layers (embedding, flattening, hidden, output) and a stopping criteria.\n",
        "\n",
        "\n",
        "## G.\tRecommend a course of action based on your results\n",
        "\n",
        "I would recommend that the next course of action be along the following lines:\n",
        "*   Create multiple new models, each with the purpose of predicting sentiment based on only one of the 3 initial datasets rather than creating a model for all 3 combined. This may allow each model to more accurately label sentiment, due to all of the included reviews would be more similar in nature, i.e. comparing only movie reviews against movie reviews, rather than movie reviews against product reviews."
      ],
      "metadata": {
        "id": "FH308Q0tPMwK"
      }
    },
    {
      "cell_type": "markdown",
      "source": [
        "# Part 6: Reporting\n",
        "\n",
        "## H.\tCreate your neural network using an industry-relevant interactive development environment (e.g. a Jupyter Notebook). Include a PDF or HTML document of your executed notebook presentation.\n",
        "\n",
        "Please see the attached notebook and html file.\n",
        "\n",
        "## I. List the web sources used to acquire data or segments of third-party code to support the application.\n",
        "\n",
        "1.   Agarwal, R. (2019, July 1). Apply and Lambda usage in pandas. TowardsDataScience. Retrieved July 1, 2023, from https://towardsdatascience.com/apply-and-lambda-usage-in-pandas-b13a1ea037f7\n",
        "2.   Elleh, F. (2022, May 15). D213 T2 May 15 22 [Online video lecture]. Western Governors University. https://wgu.hosted.panopto.com/Panopto/Pages/Viewer.aspx?id=cedbd86a-2543-4d9d-9b0e-aec4011a606d\n",
        "3.   Janakiev, N. (n.d.). Practical Text Classification With Python and Keras. Real Python. Retrieved July 1, 2023, from https://realpython.com/python-keras-text-classification/\n",
        "\n",
        "## J. Acknowledge sources, using in-text citations and references, for content that is quoted, paraphrased, or summarized.\n",
        "\n",
        "1.   C. (2020, April 2). Hands-on TensorFlow Tokenizer for NLP. TowardsDataScience. Retrieved July 1, 2023, from https://medium.com/@canerkilinc/hands-on-tensorflow-tokenizer-for-nlp-392c97d5874d\n",
        "2.   C. (2020, April 2). Padding for NLP. TowardsDataScience. Retrieved July 1, 2023, from https://medium.com/@canerkilinc/padding-for-nlp-7dd8598c916a\n",
        "3.   Elleh, F. (2022, May 15). D213 T2 May 15 22 [Online video lecture]. Western Governors University. https://wgu.hosted.panopto.com/Panopto/Pages/Viewer.aspx?id=cedbd86a-2543-4d9d-9b0e-aec4011a606d\n",
        "4.   Nasrin Sucky, R. (2021, July 8). A Complete Step by Step Tutorial on Sentiment Analysis in Keras and Tensorflow. TowardsDataScience. Retrieved July 1, 2023, from https://towardsdatascience.com/a-complete-step-by-step-tutorial-on-sentiment-analysis-in-keras-and-tensorflow-ea420cc8913f\n",
        "5.   Pai, A. (2020, February 12). CNN vs. RNN vs. ANN – Analyzing 3 Types of Neural Networks in Deep Learning. Analytics Vidhya. Retrieved July 1, 2023, from https://www.analyticsvidhya.com/blog/2020/02/cnn-vs-rnn-vs-mlp-analyzing-3-types-of-neural-networks-in-deep-learning/\n",
        "6.   Singh Sachdev, H. (2020, January 23). Choosing number of Hidden Layers and number of hidden neurons in Neural Networks. LinkedIn. Retrieved July 1, 2023, from https://www.linkedin.com/pulse/choosing-number-hidden-layers-neurons-neural-networks-sachdev/\n",
        "\n",
        "\n",
        "## K. Demonstrate professional communication in the content and presentation of your submission."
      ],
      "metadata": {
        "id": "UNz02Q4YQfD_"
      }
    }
  ]
}